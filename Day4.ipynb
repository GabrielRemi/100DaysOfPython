{
 "cells": [
  {
   "cell_type": "markdown",
   "source": [
    "# Day Four"
   ],
   "metadata": {
    "collapsed": false
   },
   "id": "ca12f6fc9239901d"
  },
  {
   "cell_type": "markdown",
   "source": [
    "## The Random Module\n",
    "Randomization for programming is important. in Python, there exists a module just for creating pseudo random numbers.\n",
    "This module is called `random` and we will discuss the two most important functions of this module.\n",
    "\n",
    "The first one is the function `random`. This generates a floating point number in the interval $[0, 1)$. This might seem \n",
    "to be limiting, but you can scale and shift the range manually the number with mathematical operations, so you can\n",
    "in fact create all possible real numbers with it.\n",
    "To generate random integers, you can use the function `randint(left, right)`, which creates an integer\n",
    "in the specified range including the boundaries.\n",
    "\n",
    "Sometimes you want to test a code with random numbers, but keep the same random numbers for each test. \n",
    "You can do this by choosing a specific seed for number generation. If you use the function `seed(n: int)` before\n",
    "number generation, the numbers you will get will always be the same.\n"
   ],
   "metadata": {
    "collapsed": false
   },
   "id": "727273e767259b71"
  },
  {
   "cell_type": "code",
   "execution_count": 194,
   "id": "initial_id",
   "metadata": {
    "collapsed": true,
    "ExecuteTime": {
     "end_time": "2023-12-22T09:28:43.753469854Z",
     "start_time": "2023-12-22T09:28:43.747377948Z"
    }
   },
   "outputs": [
    {
     "name": "stdout",
     "output_type": "stream",
     "text": [
      "0.28183784439970383 -0.10897293360177696\n",
      "1\n",
      "0.8444218515250481 0.7579544029403025\n"
     ]
    }
   ],
   "source": [
    "import random\n",
    "\n",
    "x = random.random()\n",
    "y = 6*(x - .3)  # creates numbers in the range [-1.8, 4.3)\n",
    "print(x, y)\n",
    "\n",
    "z = random.randint(1, 6)\n",
    "print(z)\n",
    "\n",
    "## Now choose a seed\n",
    "random.seed(0)\n",
    "x = random.random()\n",
    "y = random.random()\n",
    "print(x, y)\n",
    "\n"
   ]
  },
  {
   "cell_type": "markdown",
   "source": [
    "As you can see in the code, if we select the seed after generating some numbers, if we rerun the code, the numbers before \n",
    "this line will also not change, so actually it doesn't matter where we put this line in our code."
   ],
   "metadata": {
    "collapsed": false
   },
   "id": "b805c3692810a886"
  },
  {
   "cell_type": "code",
   "execution_count": 195,
   "outputs": [
    {
     "name": "stdout",
     "output_type": "stream",
     "text": [
      "IndexError\n"
     ]
    }
   ],
   "source": [],
   "metadata": {
    "collapsed": false,
    "ExecuteTime": {
     "end_time": "2023-12-22T09:31:28.821962956Z",
     "start_time": "2023-12-22T09:31:28.777967448Z"
    }
   },
   "id": "36d5e269394fb5cc"
  }
 ],
 "metadata": {
  "kernelspec": {
   "display_name": "Python 3",
   "language": "python",
   "name": "python3"
  },
  "language_info": {
   "codemirror_mode": {
    "name": "ipython",
    "version": 2
   },
   "file_extension": ".py",
   "mimetype": "text/x-python",
   "name": "python",
   "nbconvert_exporter": "python",
   "pygments_lexer": "ipython2",
   "version": "2.7.6"
  }
 },
 "nbformat": 4,
 "nbformat_minor": 5
}
