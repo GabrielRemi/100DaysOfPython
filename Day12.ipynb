{
 "cells": [
  {
   "cell_type": "markdown",
   "source": [
    "# Day Twelve"
   ],
   "metadata": {
    "collapsed": false
   },
   "id": "f709c5a1112d0290"
  },
  {
   "cell_type": "markdown",
   "source": [
    "## Namespaces and Scoping\n",
    "If you define a variable inside a function, this variable is only available inside this function, even if you have \n",
    "a variable with the same name outside of it. \n"
   ],
   "metadata": {
    "collapsed": false
   },
   "id": "898073550954d71d"
  },
  {
   "cell_type": "code",
   "execution_count": 3,
   "id": "initial_id",
   "metadata": {
    "collapsed": true,
    "ExecuteTime": {
     "end_time": "2023-12-28T12:26:37.548832157Z",
     "start_time": "2023-12-28T12:26:37.489719290Z"
    }
   },
   "outputs": [
    {
     "name": "stdout",
     "output_type": "stream",
     "text": [
      "2\n",
      "1\n"
     ]
    }
   ],
   "source": [
    "x = 1\n",
    "def func():\n",
    "    x = 2\n",
    "    print(x)\n",
    "    \n",
    "func()\n",
    "print(x)"
   ]
  },
  {
   "cell_type": "markdown",
   "source": [
    "That's because of the local scope of the variable. If you still want to change the value of a global variable, \n",
    "you have to explicitly tell the program."
   ],
   "metadata": {
    "collapsed": false
   },
   "id": "598082917643578e"
  },
  {
   "cell_type": "code",
   "outputs": [],
   "source": [
    "x = 1\n",
    "def func():\n",
    "    global x\n",
    "    x = 2\n",
    "    print(x)\n",
    "    \n",
    "func()\n",
    "print(x)"
   ],
   "metadata": {
    "collapsed": false
   },
   "id": "f41f94eca58a4155"
  },
  {
   "cell_type": "markdown",
   "source": [
    "Python uses namespaces. Namespaces are like dictionaries with all the variable names in the current scope. This means that \n",
    "if you are inside a function, the global namespace cannot be accessed directly. If first searches in the local namespace for \n",
    "a variable, then in the enclosing, and then in the global one. But what if a have a function inside a function?"
   ],
   "metadata": {
    "collapsed": false
   },
   "id": "ee234f711461b878"
  },
  {
   "cell_type": "code",
   "outputs": [
    {
     "name": "stdout",
     "output_type": "stream",
     "text": [
      "3\n",
      "2\n",
      "3\n"
     ]
    }
   ],
   "source": [
    "x = 1\n",
    "def func():\n",
    "    x = 2\n",
    "    def another_func():\n",
    "        global x\n",
    "        x = 3\n",
    "        print(x)\n",
    "    another_func()\n",
    "    print(x)\n",
    "\n",
    "func()\n",
    "print(x)"
   ],
   "metadata": {
    "collapsed": false,
    "ExecuteTime": {
     "end_time": "2023-12-28T12:34:32.263032356Z",
     "start_time": "2023-12-28T12:34:32.225869224Z"
    }
   },
   "id": "9598a957b0e82b9f",
   "execution_count": 5
  },
  {
   "cell_type": "markdown",
   "source": [
    "As you can see, the `global` keyword changes the variable in the most upper namespace. If you want to change a variable \n",
    "in the enclosing namespace, use the `nonlocal` keyword."
   ],
   "metadata": {
    "collapsed": false
   },
   "id": "8bd59c891a3341f1"
  },
  {
   "cell_type": "code",
   "outputs": [
    {
     "name": "stdout",
     "output_type": "stream",
     "text": [
      "3\n",
      "3\n",
      "1\n"
     ]
    }
   ],
   "source": [
    "x = 1\n",
    "def func():\n",
    "    x = 2\n",
    "    def another_func():\n",
    "        nonlocal x\n",
    "        x = 3\n",
    "        print(x)\n",
    "    another_func()\n",
    "    print(x)\n",
    "\n",
    "func()\n",
    "print(x)"
   ],
   "metadata": {
    "collapsed": false,
    "ExecuteTime": {
     "end_time": "2023-12-28T12:35:57.050758911Z",
     "start_time": "2023-12-28T12:35:57.002198978Z"
    }
   },
   "id": "d7d44778af81959c",
   "execution_count": 6
  },
  {
   "cell_type": "markdown",
   "source": [
    "Indentation from loops do not create new namespaces."
   ],
   "metadata": {
    "collapsed": false
   },
   "id": "9176b9ede773003a"
  },
  {
   "cell_type": "code",
   "outputs": [],
   "source": [],
   "metadata": {
    "collapsed": false
   },
   "id": "13b402af7f0a4728"
  }
 ],
 "metadata": {
  "kernelspec": {
   "display_name": "Python 3",
   "language": "python",
   "name": "python3"
  },
  "language_info": {
   "codemirror_mode": {
    "name": "ipython",
    "version": 2
   },
   "file_extension": ".py",
   "mimetype": "text/x-python",
   "name": "python",
   "nbconvert_exporter": "python",
   "pygments_lexer": "ipython2",
   "version": "2.7.6"
  }
 },
 "nbformat": 4,
 "nbformat_minor": 5
}
