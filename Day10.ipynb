{
 "cells": [
  {
   "cell_type": "markdown",
   "source": [
    "# Day Ten"
   ],
   "metadata": {
    "collapsed": false
   },
   "id": "21b2e49e96e6d757"
  },
  {
   "cell_type": "markdown",
   "source": [
    "## Function outputs, nothing to see here."
   ],
   "metadata": {
    "collapsed": false
   },
   "id": "a1f00a24abfa2ab8"
  },
  {
   "cell_type": "code",
   "execution_count": 5,
   "id": "initial_id",
   "metadata": {
    "collapsed": true,
    "ExecuteTime": {
     "end_time": "2023-12-27T08:58:24.606892401Z",
     "start_time": "2023-12-27T08:58:24.599242238Z"
    }
   },
   "outputs": [
    {
     "name": "stdout",
     "output_type": "stream",
     "text": [
      "None\n"
     ]
    }
   ],
   "source": []
  }
 ],
 "metadata": {
  "kernelspec": {
   "display_name": "Python 3",
   "language": "python",
   "name": "python3"
  },
  "language_info": {
   "codemirror_mode": {
    "name": "ipython",
    "version": 2
   },
   "file_extension": ".py",
   "mimetype": "text/x-python",
   "name": "python",
   "nbconvert_exporter": "python",
   "pygments_lexer": "ipython2",
   "version": "2.7.6"
  }
 },
 "nbformat": 4,
 "nbformat_minor": 5
}
