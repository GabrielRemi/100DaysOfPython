{
 "cells": [
  {
   "cell_type": "markdown",
   "source": [
    "# Day Eight"
   ],
   "metadata": {
    "collapsed": false
   },
   "id": "f49447b1a44de528"
  },
  {
   "cell_type": "markdown",
   "source": [
    "## Functions with inputs\n",
    "functions can take inputs. they are called arguments. You can define a function with as many arguments as \n",
    "you like. for example, the function `func(a, b)` takes the two arguments `a` and `b`. If you use the function \n",
    "in your code, you have to insert your parameters in the same order as in the function definition, as seen in the example below."
   ],
   "metadata": {
    "collapsed": false
   },
   "id": "4995b941575dd34f"
  },
  {
   "cell_type": "code",
   "execution_count": 3,
   "id": "initial_id",
   "metadata": {
    "collapsed": true,
    "ExecuteTime": {
     "end_time": "2023-12-25T18:02:57.917812530Z",
     "start_time": "2023-12-25T18:02:57.898758903Z"
    }
   },
   "outputs": [
    {
     "name": "stdout",
     "output_type": "stream",
     "text": [
      "a = 1, b = 2\n"
     ]
    }
   ],
   "source": [
    "def func(a, b):\n",
    "    print(f\"a = {a}, b = {b}\")\n",
    "    \n",
    "func(1, 2)"
   ]
  },
  {
   "cell_type": "markdown",
   "source": [
    "Those are called *positional Arguments*. You can also break the order when you insert the parameters by the keyword. Those are \n",
    "called *keyword Arguments*. Positional arguments are not allowed after keyword arguments."
   ],
   "metadata": {
    "collapsed": false
   },
   "id": "d85a370578f68194"
  },
  {
   "cell_type": "code",
   "outputs": [
    {
     "name": "stdout",
     "output_type": "stream",
     "text": [
      "a = 1, b = 2\n"
     ]
    }
   ],
   "source": [
    "func(b = 2, a = 1)\n",
    "\n",
    "# func(2, a = 1) this is wrong"
   ],
   "metadata": {
    "collapsed": false,
    "ExecuteTime": {
     "end_time": "2023-12-25T18:02:58.014107563Z",
     "start_time": "2023-12-25T18:02:57.924866081Z"
    }
   },
   "id": "2e36dc865143a5c5",
   "execution_count": 4
  },
  {
   "cell_type": "markdown",
   "source": [
    "By using the asterisk * before an argument name, we are saying that the functions takes an unlimited amount of positional\n",
    "arguments which are saved in a list."
   ],
   "metadata": {
    "collapsed": false
   },
   "id": "a5419db1bd7857d3"
  },
  {
   "cell_type": "code",
   "outputs": [
    {
     "name": "stdout",
     "output_type": "stream",
     "text": [
      "a = 1\n",
      "0 = Hello\n",
      "1 = World\n",
      "2 = 42\n"
     ]
    }
   ],
   "source": [
    "    def func(a, *params):\n",
    "        print(f\"a = {a}\")\n",
    "        for i, elem in enumerate(params):\n",
    "            print(f\"{i} = {elem}\")\n",
    "    \n",
    "    func(1, \"Hello\", \"World\", 42)            "
   ],
   "metadata": {
    "collapsed": false,
    "ExecuteTime": {
     "end_time": "2023-12-25T18:11:58.277102716Z",
     "start_time": "2023-12-25T18:11:58.259804718Z"
    }
   },
   "id": "cd9caeee6b16a346",
   "execution_count": 5
  },
  {
   "cell_type": "markdown",
   "source": [
    "by putting \"**\" in front of an argument name, we can input an unlimited amount of keyword arguments which are saved in a dictionary."
   ],
   "metadata": {
    "collapsed": false
   },
   "id": "7bd34dbe6117f813"
  },
  {
   "cell_type": "code",
   "outputs": [
    {
     "name": "stdout",
     "output_type": "stream",
     "text": [
      "1\n",
      "Hello\n",
      "key = World\n",
      "num = 42\n"
     ]
    }
   ],
   "source": [
    "def func(*args, **kwargs):\n",
    "    for i in args:\n",
    "        print(i)\n",
    "    for i in kwargs:\n",
    "        print(f\"{i} = {kwargs[i]}\")\n",
    "        \n",
    "func(1, \"Hello\", key=\"World\", num=42)\n"
   ],
   "metadata": {
    "collapsed": false,
    "ExecuteTime": {
     "end_time": "2023-12-25T18:15:06.830368711Z",
     "start_time": "2023-12-25T18:15:06.769674695Z"
    }
   },
   "id": "57457123290314d7",
   "execution_count": 7
  },
  {
   "cell_type": "markdown",
   "source": [
    "by putting `*, ` before your arguments, this implies that all parameters can only be inserted with their \n",
    "corresponding keys. By inserting a `/` after your arguments, the parameters can only be inserted by position."
   ],
   "metadata": {
    "collapsed": false
   },
   "id": "24a866743be216d"
  },
  {
   "cell_type": "code",
   "outputs": [
    {
     "name": "stdout",
     "output_type": "stream",
     "text": [
      "a = 1, b = 2, c = 3\n",
      "a = 1, b = 2\n",
      "a = 1, b = 2, c = 3\n"
     ]
    }
   ],
   "source": [
    "def func(a, *, b, c):\n",
    "    print(f\"a = {a}, b = {b}, c = {c}\")\n",
    "    \n",
    "func(1, b=2, c=3)\n",
    " # func(1, 2, 3) not allowed\n",
    " \n",
    "def func(a, b, /):\n",
    "    print(f\"a = {a}, b = {b}\")\n",
    "    \n",
    "func(1, 2)\n",
    "# func(b = 2, a = 1) not allowed \n",
    " \n",
    "def func(a, /, *, b, c):\n",
    "    print(f\"a = {a}, b = {b}, c = {c}\")\n",
    "    \n",
    "func(1, b=2, c=3)\n",
    "# func(a = 1, b=2, c=3) not allowed\n",
    " "
   ],
   "metadata": {
    "collapsed": false,
    "ExecuteTime": {
     "end_time": "2023-12-25T18:21:24.538626549Z",
     "start_time": "2023-12-25T18:21:24.483554053Z"
    }
   },
   "id": "9696088ca726d41b",
   "execution_count": 11
  }
 ],
 "metadata": {
  "kernelspec": {
   "display_name": "Python 3",
   "language": "python",
   "name": "python3"
  },
  "language_info": {
   "codemirror_mode": {
    "name": "ipython",
    "version": 2
   },
   "file_extension": ".py",
   "mimetype": "text/x-python",
   "name": "python",
   "nbconvert_exporter": "python",
   "pygments_lexer": "ipython2",
   "version": "2.7.6"
  }
 },
 "nbformat": 4,
 "nbformat_minor": 5
}
