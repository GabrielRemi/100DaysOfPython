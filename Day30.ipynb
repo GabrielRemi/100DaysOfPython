{
 "cells": [
  {
   "cell_type": "markdown",
   "id": "39ef16bcd21ad2e2",
   "metadata": {
    "collapsed": false
   },
   "source": [
    "# Day Thirty"
   ]
  },
  {
   "cell_type": "markdown",
   "id": "3180879eab9124d1",
   "metadata": {
    "collapsed": false
   },
   "source": [
    "# Errors and Exceptions\n",
    "When a program is running, errors can occur. An error that occurs frequently is trying to open a file that doesn't exist. This raises a `FileNotFoundError` .\n",
    "Another is trying to index an element in a list that is out of range"
   ]
  },
  {
   "cell_type": "code",
   "execution_count": 2,
   "id": "initial_id",
   "metadata": {
    "ExecuteTime": {
     "end_time": "2024-01-27T21:13:26.634968426Z",
     "start_time": "2024-01-27T21:13:26.624404926Z"
    },
    "collapsed": true
   },
   "outputs": [
    {
     "ename": "FileNotFoundError",
     "evalue": "[Errno 2] No such file or directory: 'file_that_does_not_exist.txt'",
     "output_type": "error",
     "traceback": [
      "\u001b[0;31m---------------------------------------------------------------------------\u001b[0m",
      "\u001b[0;31mFileNotFoundError\u001b[0m                         Traceback (most recent call last)",
      "Cell \u001b[0;32mIn[2], line 2\u001b[0m\n\u001b[1;32m      1\u001b[0m \u001b[38;5;66;03m# FileNotFoundError\u001b[39;00m\n\u001b[0;32m----> 2\u001b[0m file \u001b[38;5;241m=\u001b[39m \u001b[38;5;28;43mopen\u001b[39;49m\u001b[43m(\u001b[49m\u001b[38;5;124;43m\"\u001b[39;49m\u001b[38;5;124;43mfile_that_does_not_exist.txt\u001b[39;49m\u001b[38;5;124;43m\"\u001b[39;49m\u001b[43m,\u001b[49m\u001b[43m \u001b[49m\u001b[38;5;124;43m\"\u001b[39;49m\u001b[38;5;124;43mr\u001b[39;49m\u001b[38;5;124;43m\"\u001b[39;49m\u001b[43m)\u001b[49m\n\u001b[1;32m      4\u001b[0m \u001b[38;5;66;03m# IndexError\u001b[39;00m\n\u001b[1;32m      5\u001b[0m lst \u001b[38;5;241m=\u001b[39m [\u001b[38;5;241m1\u001b[39m, \u001b[38;5;241m2\u001b[39m, \u001b[38;5;241m3\u001b[39m]\n",
      "File \u001b[0;32m~/anaconda3/envs/p4_312/lib/python3.12/site-packages/IPython/core/interactiveshell.py:310\u001b[0m, in \u001b[0;36m_modified_open\u001b[0;34m(file, *args, **kwargs)\u001b[0m\n\u001b[1;32m    303\u001b[0m \u001b[38;5;28;01mif\u001b[39;00m file \u001b[38;5;129;01min\u001b[39;00m {\u001b[38;5;241m0\u001b[39m, \u001b[38;5;241m1\u001b[39m, \u001b[38;5;241m2\u001b[39m}:\n\u001b[1;32m    304\u001b[0m     \u001b[38;5;28;01mraise\u001b[39;00m \u001b[38;5;167;01mValueError\u001b[39;00m(\n\u001b[1;32m    305\u001b[0m         \u001b[38;5;124mf\u001b[39m\u001b[38;5;124m\"\u001b[39m\u001b[38;5;124mIPython won\u001b[39m\u001b[38;5;124m'\u001b[39m\u001b[38;5;124mt let you open fd=\u001b[39m\u001b[38;5;132;01m{\u001b[39;00mfile\u001b[38;5;132;01m}\u001b[39;00m\u001b[38;5;124m by default \u001b[39m\u001b[38;5;124m\"\u001b[39m\n\u001b[1;32m    306\u001b[0m         \u001b[38;5;124m\"\u001b[39m\u001b[38;5;124mas it is likely to crash IPython. If you know what you are doing, \u001b[39m\u001b[38;5;124m\"\u001b[39m\n\u001b[1;32m    307\u001b[0m         \u001b[38;5;124m\"\u001b[39m\u001b[38;5;124myou can use builtins\u001b[39m\u001b[38;5;124m'\u001b[39m\u001b[38;5;124m open.\u001b[39m\u001b[38;5;124m\"\u001b[39m\n\u001b[1;32m    308\u001b[0m     )\n\u001b[0;32m--> 310\u001b[0m \u001b[38;5;28;01mreturn\u001b[39;00m \u001b[43mio_open\u001b[49m\u001b[43m(\u001b[49m\u001b[43mfile\u001b[49m\u001b[43m,\u001b[49m\u001b[43m \u001b[49m\u001b[38;5;241;43m*\u001b[39;49m\u001b[43margs\u001b[49m\u001b[43m,\u001b[49m\u001b[43m \u001b[49m\u001b[38;5;241;43m*\u001b[39;49m\u001b[38;5;241;43m*\u001b[39;49m\u001b[43mkwargs\u001b[49m\u001b[43m)\u001b[49m\n",
      "\u001b[0;31mFileNotFoundError\u001b[0m: [Errno 2] No such file or directory: 'file_that_does_not_exist.txt'"
     ]
    }
   ],
   "source": [
    "# FileNotFoundError\n",
    "file = open(\"file_that_does_not_exist.txt\", \"r\")\n",
    "\n",
    "# IndexError\n",
    "lst = [1, 2, 3]\n",
    "print(lst[4])\n",
    "\n",
    "# KeyError\n",
    "dct = {1: 1}\n",
    "print(dct[2])\n",
    "\n",
    "# TypeError\n",
    "print(\"hello\" + 4)\n",
    "\n",
    "\n",
    "\n"
   ]
  },
  {
   "cell_type": "markdown",
   "id": "cad0b188532aa0ab",
   "metadata": {
    "collapsed": false
   },
   "source": [
    "To handle errors and thus prevent unwanted behavior, you can indent the code that might fail in a `try` block."
   ]
  },
  {
   "cell_type": "code",
   "execution_count": 3,
   "id": "bcfae19e1413e761",
   "metadata": {
    "ExecuteTime": {
     "end_time": "2024-01-27T21:15:35.604546030Z",
     "start_time": "2024-01-27T21:15:35.557931090Z"
    },
    "collapsed": false
   },
   "outputs": [
    {
     "name": "stdout",
     "output_type": "stream",
     "text": [
      "executes if code fails\n",
      "executes no matter what\n"
     ]
    }
   ],
   "source": [
    "try:\n",
    "    #tries to execute the code\n",
    "    file = open(\"file_that_does_not_exist\")\n",
    "except:\n",
    "    print(\"executes if code fails\")\n",
    "else:\n",
    "    print(\"executes if code did not fail\")\n",
    "finally:\n",
    "    print(\"executes no matter what\")"
   ]
  },
  {
   "cell_type": "markdown",
   "id": "65fba04e2188adeb",
   "metadata": {
    "collapsed": false
   },
   "source": [
    "You can do different things depending on the type of error. You can also raise your own error by using the `raise` keyword."
   ]
  },
  {
   "cell_type": "code",
   "execution_count": 5,
   "id": "e6088da47bfac449",
   "metadata": {
    "collapsed": false
   },
   "outputs": [
    {
     "name": "stdout",
     "output_type": "stream",
     "text": [
      "IndexError: list index out of range\n",
      "KeyError\n",
      "Unexpected error\n",
      "ValueError: This is a made up error\n"
     ]
    }
   ],
   "source": [
    "lst = [1]\n",
    "dct = {\"something\": 2}\n",
    "try:\n",
    "    print(lst[2])\n",
    "except IndexError as e:\n",
    "    print(f\"IndexError: {e}\")\n",
    "except KeyError:\n",
    "    print(\"KeyError\")\n",
    "except:\n",
    "    print(\"Unexpected error\")\n",
    "    \n",
    "try:\n",
    "    print(dct[\"something else\"])\n",
    "except IndexError as e:\n",
    "    print(f\"IndexError: {e}\")\n",
    "except KeyError:\n",
    "    print(\"KeyError\")\n",
    "except:\n",
    "    print(\"Unexpected error\")\n",
    "    \n",
    "try:\n",
    "    print('asdf' + 4)\n",
    "except IndexError:\n",
    "    print(\"IndexError\")\n",
    "except KeyError:\n",
    "    print(\"KeyError\")\n",
    "except:\n",
    "    print(\"Unexpected error\")\n",
    "    \n",
    "try:\n",
    "    raise ValueError(\"This is a made up error\")\n",
    "except ValueError as e:\n",
    "    print(f\"ValueError: {e}\")\n",
    "    \n",
    "\n",
    "    "
   ]
  },
  {
   "cell_type": "code",
   "execution_count": null,
   "id": "8e8084aa",
   "metadata": {},
   "outputs": [],
   "source": []
  }
 ],
 "metadata": {
  "kernelspec": {
   "display_name": "Python 3",
   "language": "python",
   "name": "python3"
  },
  "language_info": {
   "codemirror_mode": {
    "name": "ipython",
    "version": 3
   },
   "file_extension": ".py",
   "mimetype": "text/x-python",
   "name": "python",
   "nbconvert_exporter": "python",
   "pygments_lexer": "ipython3",
   "version": "3.12.0"
  }
 },
 "nbformat": 4,
 "nbformat_minor": 5
}
