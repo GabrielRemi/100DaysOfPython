{
 "cells": [
  {
   "cell_type": "markdown",
   "metadata": {},
   "source": [
    "# Day Three\n",
    "\n",
    "This day handles logic operations and control flow. Since those are already very well known concepts, not every thing \n",
    "mentioned in the course will be discussed here in full detail."
   ]
  },
  {
   "cell_type": "markdown",
   "metadata": {},
   "source": [
    "## Leap Year Calculator\n",
    "\n",
    "A leap Year has 366 days and is every year that is divisble by 4, expect it is evenly divisible by 100, unless it is also divisble by 400."
   ]
  },
  {
   "cell_type": "code",
   "execution_count": 1,
   "metadata": {
    "ExecuteTime": {
     "end_time": "2023-12-22T08:59:51.004676857Z",
     "start_time": "2023-12-22T08:59:48.304193267Z"
    }
   },
   "outputs": [
    {
     "name": "stdout",
     "output_type": "stream",
     "text": [
      "Welcome to the Leap Year Calculator!\n",
      "2024 is a leap year.\n"
     ]
    }
   ],
   "source": [
    "print(\"Welcome to the Leap Year Calculator!\")\n",
    "year = input(\"Enter the year:\\n\")\n",
    "try:\n",
    "    year = int(year)\n",
    "except ValueError:\n",
    "    print(\"Error! year must be an integer\")\n",
    "    exit(-1)\n",
    "\n",
    "leap = False\n",
    "def print_leap():\n",
    "    if leap:\n",
    "        print(f\"{year} is a leap year.\")\n",
    "    else:print(f\"{year} is not a leap year.\")\n",
    "\n",
    "    exit(0)\n",
    "\n",
    "\n",
    "if year % 4 == 0:\n",
    "    if year % 100 == 0:\n",
    "        if year % 400 == 0:\n",
    "            leap = True\n",
    "    else:\n",
    "        leap = True\n",
    "\n",
    "print_leap()\n",
    "    \n"
   ]
  }
 ],
 "metadata": {
  "kernelspec": {
   "display_name": "p4_312",
   "language": "python",
   "name": "python3"
  },
  "language_info": {
   "codemirror_mode": {
    "name": "ipython",
    "version": 3
   },
   "file_extension": ".py",
   "mimetype": "text/x-python",
   "name": "python",
   "nbconvert_exporter": "python",
   "pygments_lexer": "ipython3",
   "version": "3.12.0"
  }
 },
 "nbformat": 4,
 "nbformat_minor": 2
}
