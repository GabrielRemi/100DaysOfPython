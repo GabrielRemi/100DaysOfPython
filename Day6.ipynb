{
 "cells": [
  {
   "cell_type": "markdown",
   "source": [
    "# Day Six"
   ],
   "metadata": {
    "collapsed": false
   },
   "id": "f5b16992a6b15024"
  },
  {
   "cell_type": "markdown",
   "source": [
    "## Functions\n",
    "Day Six was all about functions. Since this is already very well known, there is nothing to tell. For Learning, \n",
    "the site `https://reeborg.ca/reeborg.html?lang=en&mode=python&menu=worlds%2Fmenus%2Freeborg_intro_en.json&name=problem_world2.json&url=user_world%3Aproblem_world2.json` was used."
   ],
   "metadata": {
    "collapsed": false
   },
   "id": "515d2e122cd46147"
  }
 ],
 "metadata": {
  "kernelspec": {
   "display_name": "Python 3",
   "language": "python",
   "name": "python3"
  },
  "language_info": {
   "codemirror_mode": {
    "name": "ipython",
    "version": 2
   },
   "file_extension": ".py",
   "mimetype": "text/x-python",
   "name": "python",
   "nbconvert_exporter": "python",
   "pygments_lexer": "ipython2",
   "version": "2.7.6"
  }
 },
 "nbformat": 4,
 "nbformat_minor": 5
}
