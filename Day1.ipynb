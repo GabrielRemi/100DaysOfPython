{
 "cells": [
  {
   "cell_type": "markdown",
   "metadata": {},
   "source": [
    "# Day One"
   ]
  },
  {
   "cell_type": "markdown",
   "metadata": {},
   "source": [
    "## Print Function\n",
    "\n",
    "With the function ```print()``` you can print a string into the terminal. \n",
    "\n",
    "To print a string \n",
    "you can use either `\"\"` or `''`. If you want to have quotes inside quotes, you have to alternate between \n",
    "`\"\"` and `''`.\n",
    "\n",
    " To add a line break you can use `\\n`.\n",
    "\n",
    "You can add strings together with the `+` operator, which is known as *string concatenation*."
   ]
  },
  {
   "cell_type": "code",
   "execution_count": 6,
   "metadata": {},
   "outputs": [
    {
     "name": "stdout",
     "output_type": "stream",
     "text": [
      "Hello World!\n",
      "Hello \n",
      "World!\n",
      "print('Hello World')\n",
      "Hello World!\n"
     ]
    }
   ],
   "source": [
    "print(\"Hello World!\")\n",
    "print(\"Hello \\nWorld!\")\n",
    "print(\"print('Hello World')\")\n",
    "\n",
    "print(\"Hello\" + \" \" + \"World!\")"
   ]
  },
  {
   "cell_type": "markdown",
   "metadata": {},
   "source": [
    "## Input Function\n",
    "\n"
   ]
  },
  {
   "cell_type": "markdown",
   "metadata": {},
   "source": [
    "The `input()` function is used to ask for user input. In the parenthesis you can add a message that should be \n",
    "displayed in the terminal. After the user has entered the text, the function returns the input as a string."
   ]
  },
  {
   "cell_type": "code",
   "execution_count": 8,
   "metadata": {},
   "outputs": [
    {
     "name": "stdout",
     "output_type": "stream",
     "text": [
      "Error: the input has to be a number\n"
     ]
    }
   ],
   "source": [
    "x = input(\"Please input a number\")\n",
    "try: \n",
    "    float(x)\n",
    "    print(\"the number was: \", x)\n",
    "except:\n",
    "    print(\"Error: the input has to be a number\")\n",
    "    \n"
   ]
  },
  {
   "cell_type": "markdown",
   "metadata": {},
   "source": [
    "## Band Name Generator\n",
    "the following code will generate a band name based on the user input. The Program will first ask \n",
    "the user the city he grew up in and then the name of his pet. The band name will be a combination of both."
   ]
  },
  {
   "cell_type": "code",
   "execution_count": 9,
   "metadata": {},
   "outputs": [
    {
     "name": "stdout",
     "output_type": "stream",
     "text": [
      "Welcome to Band Name Generator!\n",
      "Your Band Name: siegburg Frodo\n"
     ]
    }
   ],
   "source": [
    "print(\"Welcome to Band Name Generator!\")\n",
    "city = input(\"Enter the city you grew up in:\\n\")\n",
    "pet = input(\"Now Enter your pet's name:\\n\")\n",
    "\n",
    "print(\"Your Band Name: \" + city + \" \" + pet)"
   ]
  }
 ],
 "metadata": {
  "kernelspec": {
   "display_name": "Python 3",
   "language": "python",
   "name": "python3"
  },
  "language_info": {
   "codemirror_mode": {
    "name": "ipython",
    "version": 3
   },
   "file_extension": ".py",
   "mimetype": "text/x-python",
   "name": "python",
   "nbconvert_exporter": "python",
   "pygments_lexer": "ipython3",
   "version": "3.12.0"
  }
 },
 "nbformat": 4,
 "nbformat_minor": 2
}
