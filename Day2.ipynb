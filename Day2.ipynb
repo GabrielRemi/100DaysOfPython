{
 "cells": [
  {
   "cell_type": "markdown",
   "metadata": {},
   "source": [
    "# Day Two"
   ]
  },
  {
   "cell_type": "markdown",
   "metadata": {},
   "source": [
    "## Primitive Data Types \n",
    "In python there are some primite data types that are used all the time. One of those are `strings` that were used in day one. \n",
    "To save a true or false value you use the `boolean` data type. For integer numbers one uses the `int`-type and for floating point numbers \n",
    "the `float`-type."
   ]
  },
  {
   "cell_type": "code",
   "execution_count": 1,
   "metadata": {
    "ExecuteTime": {
     "end_time": "2023-12-22T08:57:16.834273455Z",
     "start_time": "2023-12-22T08:57:16.816643029Z"
    }
   },
   "outputs": [],
   "source": [
    "## Primitive Data Types\n",
    "\n",
    "text = \"Hello\" # string\n",
    "boolean = True # boolean\n",
    "integer = 1_000 # int\n",
    "floating = 3.14 # float\n"
   ]
  },
  {
   "cell_type": "markdown",
   "metadata": {},
   "source": [
    "## Type Conversion \n",
    "\n",
    "To check the data type of a variable, you use it as an argument vor the `type()` function, which outputs the data type. To convert the \n",
    "type of a variable into another one, you can use the corresponding functions `str()`, `float()` and `int()`.\n",
    "\n",
    "To Format a floating point number `a` to the decimal place `n`, use can use the formating function `\"{:.nf}\".format(a)`. This function \n",
    "is later used in the tip calculator."
   ]
  },
  {
   "cell_type": "code",
   "execution_count": 2,
   "metadata": {
    "ExecuteTime": {
     "end_time": "2023-12-22T08:57:16.867194359Z",
     "start_time": "2023-12-22T08:57:16.830100027Z"
    }
   },
   "outputs": [
    {
     "name": "stdout",
     "output_type": "stream",
     "text": [
      "70100\n",
      "170.7\n",
      "100\n"
     ]
    }
   ],
   "source": [
    "print(str(70) + str(100))\n",
    "\n",
    "print(70 + float(\"100.7\"))\n",
    "print(int(100.234))"
   ]
  },
  {
   "cell_type": "markdown",
   "metadata": {},
   "source": [
    "## Tip Calculator\n",
    "self explenatory"
   ]
  },
  {
   "cell_type": "code",
   "execution_count": 3,
   "metadata": {
    "ExecuteTime": {
     "end_time": "2023-12-22T08:57:25.283691615Z",
     "start_time": "2023-12-22T08:57:16.865414600Z"
    }
   },
   "outputs": [
    {
     "name": "stdout",
     "output_type": "stream",
     "text": [
      "Welcome to Tip Calculator\n",
      "each person has to pay 5.50€\n"
     ]
    }
   ],
   "source": [
    "print(\"Welcome to Tip Calculator\")\n",
    "bill = float(input(\"Enter the bill:\\n\"))\n",
    "person_count = int(input(\"Enter the numbers of people to split the bill:\\n\"))\n",
    "tip = float(input(\"Enter the tip in percentage: \\n\"))\n",
    "\n",
    "to_pay = bill / person_count * (1 + tip/100)\n",
    "\n",
    "print(f\"each person has to pay {\"{:.2f}\".format(round(to_pay, 2))}€\")\n",
    "\n"
   ]
  }
 ],
 "metadata": {
  "kernelspec": {
   "display_name": "p4_312",
   "language": "python",
   "name": "python3"
  },
  "language_info": {
   "codemirror_mode": {
    "name": "ipython",
    "version": 3
   },
   "file_extension": ".py",
   "mimetype": "text/x-python",
   "name": "python",
   "nbconvert_exporter": "python",
   "pygments_lexer": "ipython3",
   "version": "3.12.0"
  }
 },
 "nbformat": 4,
 "nbformat_minor": 2
}
