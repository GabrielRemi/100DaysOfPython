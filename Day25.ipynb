{
 "cells": [
  {
   "cell_type": "markdown",
   "source": [
    "# Day Twentyfive"
   ],
   "metadata": {
    "collapsed": false
   },
   "id": "d9d5786ef5c10cf7"
  },
  {
   "cell_type": "markdown",
   "source": [
    "## CSV-Files\n",
    "CSV stands for Comma Seperated Values and is a common way to store tabular data. It would be cumbersome to work with this data in python with just the open() function. Instead \n",
    "one could use the csv package, which is good enough for more primitive data and for reading and writing data. When more complex operations on the data is involved, the \n",
    "Pandas package is a much better choice which has more complex builtin functionality.\n",
    "\n",
    "To read csv data, you should use the read_csv function."
   ],
   "metadata": {
    "collapsed": false
   },
   "id": "3f66e3a638022317"
  },
  {
   "cell_type": "code",
   "execution_count": 2,
   "id": "initial_id",
   "metadata": {
    "collapsed": true,
    "ExecuteTime": {
     "end_time": "2024-01-18T21:08:10.256803726Z",
     "start_time": "2024-01-18T21:08:10.013899171Z"
    }
   },
   "outputs": [
    {
     "name": "stdout",
     "output_type": "stream",
     "text": [
      "         day  temp condition\n",
      "0     Monday    12     Sunny\n",
      "1    Tuesday    14    Cloudy\n",
      "2  Wednesday    10      Rain\n",
      "3   Thursday    16      Rain\n",
      "4     Friday    14     Sunny\n",
      "5   Saturday     9    Cloudy\n",
      "6     Sunday    11      Rain\n"
     ]
    }
   ],
   "source": [
    "import pandas as pd\n",
    "data = pd.read_csv(\"weahter_data.csv\")\n",
    "print(data)"
   ]
  },
  {
   "cell_type": "markdown",
   "source": [
    "to access a specific column of data, compared to list you don't have to remember the corresponding index in the list, but just use the title of the column."
   ],
   "metadata": {
    "collapsed": false
   },
   "id": "7e097084b40941ab"
  },
  {
   "cell_type": "code",
   "outputs": [
    {
     "name": "stdout",
     "output_type": "stream",
     "text": [
      "0    12\n",
      "1    14\n",
      "2    10\n",
      "3    16\n",
      "4    14\n",
      "5     9\n",
      "6    11\n",
      "Name: temp, dtype: int64\n"
     ]
    }
   ],
   "source": [
    "print(data[\"temp\"])\n",
    "# or print(data.temp)"
   ],
   "metadata": {
    "collapsed": false,
    "ExecuteTime": {
     "end_time": "2024-01-18T21:08:10.258153156Z",
     "start_time": "2024-01-18T21:08:10.236192590Z"
    }
   },
   "id": "478dc8b98d48d2da",
   "execution_count": 3
  },
  {
   "cell_type": "markdown",
   "source": [
    "To get rows of the data you could insert a condition that is satisfied by the rows in question."
   ],
   "metadata": {
    "collapsed": false
   },
   "id": "c736a2e4a05875bf"
  },
  {
   "cell_type": "code",
   "outputs": [
    {
     "name": "stdout",
     "output_type": "stream",
     "text": [
      "      day  temp condition\n",
      "0  Monday    12     Sunny\n"
     ]
    }
   ],
   "source": [
    "print(data[data.day == \"Monday\"])"
   ],
   "metadata": {
    "collapsed": false,
    "ExecuteTime": {
     "end_time": "2024-01-18T21:08:10.305089684Z",
     "start_time": "2024-01-18T21:08:10.245151708Z"
    }
   },
   "id": "3b11acdfea7a803a",
   "execution_count": 4
  },
  {
   "cell_type": "markdown",
   "source": [
    "if you prefer the integer based index, you can use the iloc method."
   ],
   "metadata": {
    "collapsed": false
   },
   "id": "b42af33e72dcbf4d"
  },
  {
   "cell_type": "code",
   "outputs": [
    {
     "name": "stdout",
     "output_type": "stream",
     "text": [
      "14\n",
      "         day  temp condition\n",
      "2  Wednesday    10      Rain\n",
      "3   Thursday    16      Rain\n"
     ]
    }
   ],
   "source": [
    "print(data.iloc[1, 1])\n",
    "print(data.iloc[2:4])"
   ],
   "metadata": {
    "collapsed": false,
    "ExecuteTime": {
     "end_time": "2024-01-18T21:08:10.306930095Z",
     "start_time": "2024-01-18T21:08:10.258292779Z"
    }
   },
   "id": "c86d9ff4bda76d05",
   "execution_count": 5
  },
  {
   "cell_type": "code",
   "outputs": [
    {
     "name": "stdout",
     "output_type": "stream",
     "text": [
      "      Color  Count\n",
      "0      Gray   2473\n",
      "1  Cinnamon    392\n",
      "2     Black    103\n"
     ]
    }
   ],
   "source": [
    "data: pd.Series = pd.read_csv(\"2018_Central_Park_Squirrel_Census_-_Squirrel_Data.csv\")[\"Primary Fur Color\"]\n",
    "colors = [\"Gray\", \"Cinnamon\", \"Black\"]\n",
    "count = []\n",
    "for color in colors:\n",
    "    count.append(len(data.loc[lambda col: col == color]))\n",
    "\n",
    "data_dict = {\n",
    "    \"Color\": colors,\n",
    "    \"Count\": count,\n",
    "}\n",
    "    \n",
    "new_data = pd.DataFrame(data_dict, columns=[\"Color\", \"Count\"])\n",
    "print(new_data)\n",
    "new_data.to_csv(\"squirrel_data.csv\")\n"
   ],
   "metadata": {
    "collapsed": false,
    "ExecuteTime": {
     "end_time": "2024-01-18T21:13:37.950201631Z",
     "start_time": "2024-01-18T21:13:37.899044289Z"
    }
   },
   "id": "f766609e42cc2bd7",
   "execution_count": 13
  },
  {
   "cell_type": "code",
   "outputs": [],
   "source": [],
   "metadata": {
    "collapsed": false,
    "ExecuteTime": {
     "end_time": "2024-01-18T21:08:10.344913355Z",
     "start_time": "2024-01-18T21:08:10.304132553Z"
    }
   },
   "id": "52b918f474547013",
   "execution_count": 6
  }
 ],
 "metadata": {
  "kernelspec": {
   "display_name": "Python 3",
   "language": "python",
   "name": "python3"
  },
  "language_info": {
   "codemirror_mode": {
    "name": "ipython",
    "version": 2
   },
   "file_extension": ".py",
   "mimetype": "text/x-python",
   "name": "python",
   "nbconvert_exporter": "python",
   "pygments_lexer": "ipython2",
   "version": "2.7.6"
  }
 },
 "nbformat": 4,
 "nbformat_minor": 5
}
